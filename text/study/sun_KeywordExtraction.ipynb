{
 "nbformat": 4,
 "nbformat_minor": 0,
 "metadata": {
  "colab": {
   "name": "keyBERT.ipynb",
   "provenance": []
  },
  "kernelspec": {
   "name": "python3",
   "display_name": "Python 3"
  },
  "language_info": {
   "name": "python"
  }
 },
 "cells": [
  {
   "cell_type": "code",
   "execution_count": null,
   "metadata": {
    "id": "kukFtRnzsuIc"
   },
   "outputs": [],
   "source": [
    "! pip install sentence_transformers\n",
    "! pip install konlpy"
   ]
  },
  {
   "cell_type": "code",
   "source": [
    "! git clone https://github.com/theeluwin/sci-news-sum-kr-50.git\n",
    "! mv sci-news-sum-kr-50/data ./\n",
    "! rm -r sci-news-sum-kr-50/"
   ],
   "metadata": {
    "id": "cIqJeVRQ1G53"
   },
   "execution_count": null,
   "outputs": []
  },
  {
   "cell_type": "code",
   "source": [
    "import json\n",
    "from collections import defaultdict\n",
    "\n",
    "def merge_dict(dicts):\n",
    "    merged_dict = defaultdict(list)\n",
    "    for d in dicts:\n",
    "        for k,v in d.items():\n",
    "            merged_dict[k].append(v)\n",
    "    return merged_dict\n",
    "\n",
    "dicts = [json.load(open(f'data/{\"0\"+str(i) if i<10 else i}.json', 'r')) for i in range(1, 51)]\n",
    "data = merge_dict(dicts)"
   ],
   "metadata": {
    "id": "lxcy9NnMwLL2"
   },
   "execution_count": null,
   "outputs": []
  },
  {
   "cell_type": "markdown",
   "source": [
    "# 0. Data Structure\n",
    "\n",
    "50개의 IT-과학 분야 뉴스 기사 + 요약 문장\n",
    "\n",
    "- title: `str` = 기사 제목\n",
    "- source: `str`= 기사 출처 url\n",
    "- length: `int` = 기사 내 문장 개수\n",
    "- summaries: `List[int]` = 기사 내 요약문으로 쓰일 수 있는 문장 인덱스\n",
    "- sentences: `List[str]` = 기사의 내용 (list of sentences)\n",
    "\n",
    "`data`는 50개 기사에 대한 정보를 모두 합친 dictonary이다.  \n",
    "즉, data['title']은 50개의 title을 담고 있는 `list`이다."
   ],
   "metadata": {
    "id": "OApuLHmL2GGy"
   }
  },
  {
   "cell_type": "code",
   "source": [
    "idx =      10# @param {type: \"number\"}\n",
    "print('title: \\n' + data['title'][idx])\n",
    "print('-----------------------')\n",
    "print('content: \\n' + '\\n'.join(data['sentences'][idx]))\n",
    "print('-----------------------')\n",
    "print('summaries: \\n' + '\\n'.join([data['sentences'][idx][s] for s in data['summaries'][idx]]))"
   ],
   "metadata": {
    "colab": {
     "base_uri": "https://localhost:8080/"
    },
    "id": "MLd34ij-1ZOh",
    "outputId": "044bc7af-9456-439c-a08c-97a7a41643f9"
   },
   "execution_count": null,
   "outputs": [
    {
     "output_type": "stream",
     "name": "stdout",
     "text": [
      "title: \n",
      "'고양이 눈' 학습한 AI 드론이 실종자 찾는다\n",
      "-----------------------\n",
      "content: \n",
      "'나선형 신경망' 학습 기술\n",
      "카메라로 찍은 이미지에서 특정한 사물 찾는 기술 활용\n",
      "숲속에서 등산로 척척 찾아 드론이 산악구조대 역할도\n",
      "미국 국방부는 지난달 말 인공지능(AI)을 이용해 인간 도움 없이 적을 식별해 타격하는 드론(무인 항공기)을 시연했다\n",
      "이 드론은 카메라 화면에서 총으로 무장한 사람과 무기가 없는 사람을 구분할 수 있다\n",
      "표적으로 정한 사람을 찾아 그가 탄 자동차를 추적하는 기능도 있다\n",
      "조만간 원격 조종 없이도 전장에서 특수부대 군인들처럼 임무를 수행하는 드론이 등장할 전망이다\n",
      "이 드론이 사람 도움 없이 카메라 영상에서 목표물을 인식하고 추적할 수 있는 것은 바로 ‘머신러닝’ 덕분이다\n",
      "머신러닝은 AI의 한 분야로 컴퓨터가 인간처럼 스스로 학습할 수 있는 능력을 부여하는 작업을 말한다\n",
      "머신러닝의 원리는 인간을 포함한 영장류 두뇌의 정보 처리 구조인 ‘신경망’을 모사하는 방식이다\n",
      "바둑 대결에서 이세돌 9단을 이긴 구글의 ‘알파고’ 등 지금까지 소개된 AI 대부분은 심층신경망을 기반으로 한 머신러닝 알고리즘을 이용한다\n",
      "이미지에서 특정 사물을 찾는 기술은 인간이 아니라 고양이 뇌에서 유래했다\n",
      "고양이 뇌의 시신경에서 발견되는 ‘나선형 신경망’ 구조는 시각세포들이 보내오는 반응을 모아 여러 개의 층(層)으로 나눈다\n",
      "이를 3단계에 걸쳐 점차적으로 단순화하면서 물체의 색깔이나 모양을 파악한다\n",
      "이를 처음으로 연구한 데이비드 휴벨과 토어스텐 비젤은 1981년 노벨 생리의학상을 받았다\n",
      "AI 과학자들은 나선형 신경망에서 아이디어를 얻어 이미지에서 사물을 판별하는 알고리즘을 설계했다\n",
      "우선 이미지에서 큰 특징을 추출한 다음 점차 작고 복잡한 특징을 발견해 나가는 방식이다\n",
      "예컨대 사진 속에 자동차가 있다고 해 보자\n",
      "알고리즘은 우선 사물의 전체적인 윤곽을 먼저 확인한 뒤 기존에 입력된 사진 데이터와 비교해 ‘탈 것’으로 범위를 좁힌다\n",
      "이후 타이어나 제조사 엠블럼처럼 세부적인 특징을 파악하고 ‘사진 속에 있는 물체는 자동차’라는 결론을 내리게 된다\n",
      "제프 딘 구글 수석연구원은 “나선형 신경망은 다른 머신러닝 구조들과 비교할 때 영상, 음성 분야에서 좋은 성능을 보인다”며 “이를 이용하면 컴퓨터가 처음 본 사물도 무엇인지 파악할 수 있다”고 설명했다\n",
      "주변에서 볼 수 있는 영상촬영용 드론에도 이보다는 간단하지만 비슷한 기술이 이용된다\n",
      "세계 1위 드론업체인 중국 DJI의 ‘팬텀4’는 사람 눈처럼 두 개의 카메라 센서를 장착했다\n",
      "이를 통해 대상 물체를 확인하고 일정 거리를 유지하면서 따라다닌다\n",
      "이른바 ‘액티브 트랙’ 기능이다\n",
      "액티브 트랙 기능을 켜면 이용자가 지정한 사물이나 사람의 윤곽선을 인식하고 픽셀(이미지를 구성하는 가장 작은 단위인 네모 모양의 점) 단위로 인식한다\n",
      "그 픽셀을 계속적으로 같은 크기로 유지하기 위해 기체가 이동한다\n",
      "예컨대 주변에 있는 사람을 지정했을 때 픽셀 크기가 상하좌우 100×100 픽셀이었다고 해 보자\n",
      "그 사람이 앞으로 움직여서 80×80 픽셀 크기로 줄어들면 원래 수치인 100×100 픽셀을 되찾기 위해 드론도 따라서 앞으로 움직이는 방식이다\n",
      "과학자들은 나선형 신경망을 본뜬 머신러닝 기술을 응용해 인간 삶을 윤택하게 할 수 있는 기술을 개발하고 있다\n",
      "스위스 취리히대 연구팀은 드론을 이용해 알프스 산맥에서 조난자를 찾는 기술을 연구 중이다\n",
      "연구팀이 개발한 AI 드론은 카메라가 촬영한 이미지를 이용해 숲이 우거진 곳과 등산로를 구분한다\n",
      "이를 드론의 비행 제어기로 전달해 이동 방향을 결정한다\n",
      "올해 초 취리히대가 완료한 첫 실험에서는 ‘드론이 인간보다 등산로를 잘 찾는다’는 결과가 나왔다\n",
      "연구팀은 약 2만장의 알프스 산 등산로 사진을 바탕으로 3일간 드론에 탑재된 인공지능의 심층신경망을 학습시켰다\n",
      "이후 드론이 전혀 가보지 못한 등산로를 오르도록 했다\n",
      "실험 결과 사람 눈으로 새로운 등산로를 식별할 확률은 82%였으나 AI 드론은 85%의 성공률을 보여줬다\n",
      "취리히대 연구팀은 “AI 드론은 조만간 실전에 투입돼 산악구조대가 조난자를 찾는 일을 도울 수 있을 것”이라고 말했다\n",
      "신경망 학습 기술은 다양한 용도로 활용할 수 있다\n",
      "문태현 DJI코리아 대표는 “AI를 탑재한 드론은 송전선이나 송유관 등 산업시설물의 결함 발견, 산불 감지, 장애물이나 군사용 목표물 탐지 등 이용 가능 범위가 무궁무진하다”고 말했다\n",
      "-----------------------\n",
      "summaries: \n",
      "미국 국방부는 지난달 말 인공지능(AI)을 이용해 인간 도움 없이 적을 식별해 타격하는 드론(무인 항공기)을 시연했다\n",
      "이 드론은 카메라 화면에서 총으로 무장한 사람과 무기가 없는 사람을 구분할 수 있다\n",
      "조만간 원격 조종 없이도 전장에서 특수부대 군인들처럼 임무를 수행하는 드론이 등장할 전망이다\n",
      "이 드론이 사람 도움 없이 카메라 영상에서 목표물을 인식하고 추적할 수 있는 것은 바로 ‘머신러닝’ 덕분이다\n",
      "머신러닝은 AI의 한 분야로 컴퓨터가 인간처럼 스스로 학습할 수 있는 능력을 부여하는 작업을 말한다\n",
      "머신러닝의 원리는 인간을 포함한 영장류 두뇌의 정보 처리 구조인 ‘신경망’을 모사하는 방식이다\n",
      "AI 과학자들은 나선형 신경망에서 아이디어를 얻어 이미지에서 사물을 판별하는 알고리즘을 설계했다\n",
      "제프 딘 구글 수석연구원은 “나선형 신경망은 다른 머신러닝 구조들과 비교할 때 영상, 음성 분야에서 좋은 성능을 보인다”며 “이를 이용하면 컴퓨터가 처음 본 사물도 무엇인지 파악할 수 있다”고 설명했다\n",
      "과학자들은 나선형 신경망을 본뜬 머신러닝 기술을 응용해 인간 삶을 윤택하게 할 수 있는 기술을 개발하고 있다\n",
      "연구팀이 개발한 AI 드론은 카메라가 촬영한 이미지를 이용해 숲이 우거진 곳과 등산로를 구분한다\n",
      "신경망 학습 기술은 다양한 용도로 활용할 수 있다\n"
     ]
    }
   ]
  },
  {
   "cell_type": "markdown",
   "source": [
    "! Note !\n",
    "\n",
    "content와 summaries의 문장 개수가 모두 다르다."
   ],
   "metadata": {
    "id": "g4zmBxgs6WAO"
   }
  },
  {
   "cell_type": "code",
   "source": [
    "import matplotlib.pyplot as plt\n",
    "\n",
    "plt.figure(figsize=(7,5))\n",
    "plt.title('length of summaries (hist)', size=15)\n",
    "plt.hist(list(map(len, data['summaries'])))\n",
    "plt.show()\n",
    "\n",
    "print(f'max length: {max(list(map(len, data[\"summaries\"])))}')\n",
    "print(f'min length: {min(list(map(len, data[\"summaries\"])))}')\n",
    "print(f'mean length: {sum(list(map(len, data[\"summaries\"])))/50}')"
   ],
   "metadata": {
    "colab": {
     "base_uri": "https://localhost:8080/",
     "height": 393
    },
    "id": "kzfIOuvt17YK",
    "outputId": "8eb2cf63-5a80-45aa-8106-79468aff044e"
   },
   "execution_count": null,
   "outputs": [
    {
     "output_type": "display_data",
     "data": {
      "text/plain": [
       "<Figure size 504x360 with 1 Axes>"
      ],
      "image/png": "[encoded data removed]"
     },
     "metadata": {
      "needs_background": "light"
     }
    },
    {
     "output_type": "stream",
     "name": "stdout",
     "text": [
      "max length: 11\n",
      "min length: 2\n",
      "mean length: 4.62\n"
     ]
    }
   ]
  },
  {
   "cell_type": "markdown",
   "source": [
    "# 1. Data Preprocessing"
   ],
   "metadata": {
    "id": "TaV8Xb0p7auN"
   }
  },
  {
   "cell_type": "markdown",
   "source": [
    "## 1.1 명사형 토큰만 뽑아내기\n",
    "\n",
    "- okt tokenizer를 이용해 명사 토큰만 분리\n",
    "\n",
    "> okt의 성능이 결과에 미치는 영향이 클 것이다."
   ],
   "metadata": {
    "id": "4j_sXg_99uwa"
   }
  },
  {
   "cell_type": "code",
   "source": [
    "import numpy as np\n",
    "\n",
    "from konlpy.tag import Okt"
   ],
   "metadata": {
    "id": "YSZXuI3d6FOH"
   },
   "execution_count": null,
   "outputs": []
  },
  {
   "cell_type": "code",
   "source": [
    "okt = Okt()\n",
    "tokenized_sents = [\n",
    "                   ' '.join(word for word, pos in okt.pos('. '.join(sent_list)) if pos == 'Noun') \n",
    "                   for sent_list in data['sentences']\n",
    "]"
   ],
   "metadata": {
    "id": "feKw5UUV8E77"
   },
   "execution_count": null,
   "outputs": []
  },
  {
   "cell_type": "code",
   "source": [
    "tokenized_sents[idx]"
   ],
   "metadata": {
    "colab": {
     "base_uri": "https://localhost:8080/",
     "height": 219
    },
    "id": "pp0TEzP29YSj",
    "outputId": "1e623bdc-1fec-4857-c1da-44891beb21e1"
   },
   "execution_count": null,
   "outputs": [
    {
     "output_type": "execute_result",
     "data": {
      "text/plain": [
       "'나선형 신경망 학습 기술 카메라 이미지 사물 기술 활용 숲속 등산로 척척 드론 산악 구조대 역할 미국 국방부 지난달 말 인공 지능 이용 인간 도움 적 식별 타격 드론 무인 항공기 시연 이 드론 카메라 화면 총 무장 사람과 무기 사람 분할 수 표적 정 사람 그 자동차 추적 기능 조만간 원격 조종 전장 특수부대 군인 임무 수행 드론 등장 전망 이 드론 사람 도움 카메라 영상 목표 물 인식 추적 수 것 바로 머신 러닝 덕분 머신 러닝 의 분야 컴퓨터 인간 스스로 학습 수 능력 부여 작업 말 머신 러닝 원리 인간 포함 영장류 두뇌 정보 처리 구조 신경망 모사 방식 바둑 대결 이세돌 단 구글 알파 등 지금 소개 대부분 심층 신경망 기반 머신 러닝 알고리즘 이용 이미지 특정 사물 기술 인간 고양이 뇌 유래 고양이 뇌 시신경 발견 나선형 신경망 구조 세포 반응 여러 개 층 단계 점차 단순화 물체 색깔 모양 파악 처음 연구 데이비드 벨 토어스텐 비젤 노벨 생리 의학상 과학자 나선형 신경망 아이디어 이미지 사물 판별 알고리즘 설계 우선 이미지 특징 추출 다음 점차 작고 특징 발견 방식 사진 속 자동차 해 알고리즘 우선 사물 전체 윤곽 먼저 확인 뒤 기존 입력 사진 데이터 비교 탈 것 범위 이후 타이어 조사 엠블럼 세부 특징 파악 사진 속 물체 자동차 결론 제프 딘 구글 연구원 나선형 신경망 다른 머신 러닝 구조 비교 때 영상 음성 분야 성능 며 이용 컴퓨터 처음 사물 무엇 파악 수 고 설명 주변 볼 수 영상 촬영 용 드론 이 기술 이용 세계 위 드론 업체 중국 의 팬텀 사람 눈 두 개 카메라 센서 장 통해 대상 물체 확인 일정 거리 유지 액티브 트랙 기능 액티브 트랙 기능 이용자 지정 사물 사람 윤곽 선 인식 픽셀 이미지 구성 가장 단위 네모 모양 점 단위 인식 그 픽셀 계속 크기 유지 위해 기체 이동 주변 사람 지정 때 픽셀 크기 상하좌우 픽셀 해 그 사람 앞 움직 픽셀 크기 원래 수치 픽셀 위해 드론 따라서 앞 방식 과학자 나선형 신경망 머신 러닝 기술 응용 인간 삶 윤택 수 기술 개발 스위스 취리히 팀 드론 이용 알프스 산맥 조난 기술 연구 중이 팀 개발 드론 카메라 촬영 이미지 이용 숲 곳 등산로 구분 드론 비행 제어기 전달 이동 방향 결정 올해 초 취리히 대가 완료 첫 실험 드론 인간 등산로 결과 팀 약 알프스 산 등산로 사진 바탕 드론 탑재 인공 지능 심층 신경망 학습 이후 드론 전혀 못 등산로 실험 결과 사람 눈 등산로 식별 확률 드론 의 공률 취리히 팀 드론 조만간 실전 투입 산악 구조대 조난 일 도울 수 것 말 신경망 학습 기술 용도 활용 수 문태현 코리아 대표 를 탑재 드론 송전 선 송유관 등 산업 시설 물의 결함 발견 산불 감지 장애물 군 사용 목표 물 탐지 등 이용 가능 범위 무궁무진 고 말'"
      ],
      "application/vnd.google.colaboratory.intrinsic+json": {
       "type": "string"
      }
     },
     "metadata": {},
     "execution_count": 68
    }
   ]
  },
  {
   "cell_type": "markdown",
   "source": [
    "## 1.2 키워드 후보 추출\n"
   ],
   "metadata": {
    "id": "avqWX5ea-JRS"
   }
  },
  {
   "cell_type": "code",
   "source": [
    "from sklearn.feature_extraction.text import CountVectorizer\n",
    "\n",
    "key_candidates = []\n",
    "for sent in tokenized_sents:\n",
    "    vectorizer = CountVectorizer(ngram_range=(2,3)).fit([sent])     # CountVectorizer는 default로 2글자 이상의 단어만 사용한다.\n",
    "    key_candidates.append(vectorizer.get_feature_names_out())"
   ],
   "metadata": {
    "id": "JcpzuP4n9cbu"
   },
   "execution_count": null,
   "outputs": []
  },
  {
   "cell_type": "code",
   "source": [
    "print(f'sample: {key_candidates[idx][:5]}')"
   ],
   "metadata": {
    "colab": {
     "base_uri": "https://localhost:8080/"
    },
    "id": "9fBnNaj9_a-b",
    "outputId": "faa7c6c2-89cf-4f7f-da23-8dd64a3a9e63"
   },
   "execution_count": null,
   "outputs": [
    {
     "output_type": "stream",
     "name": "stdout",
     "text": [
      "sample: ['가능 범위' '가능 범위 무궁무진' '가장 단위' '가장 단위 네모' '감지 장애물']\n"
     ]
    }
   ]
  },
  {
   "cell_type": "markdown",
   "source": [
    "# 2. Modeling\n",
    "\n",
    "S-BERT를 사용해서 본문과 가장 similarity가 높은 keyword candidate를 선택한다."
   ],
   "metadata": {
    "id": "ImCTdpCqCekz"
   }
  },
  {
   "cell_type": "code",
   "source": [
    "from sentence_transformers import SentenceTransformer\n",
    "\n",
    "model = SentenceTransformer('sentence-transformers/xlm-r-100langs-bert-base-nli-stsb-mean-tokens')"
   ],
   "metadata": {
    "id": "MlhZ7j7sBNzP"
   },
   "execution_count": null,
   "outputs": []
  },
  {
   "cell_type": "code",
   "source": [
    "doc_embeddings = model.encode(['. '.join(doc_sents) for doc_sents in data['sentences']])\n",
    "candidate_embeddings = [model.encode(candidates) for candidates in key_candidates]"
   ],
   "metadata": {
    "id": "1z6Sn2osC2Yu"
   },
   "execution_count": null,
   "outputs": []
  },
  {
   "cell_type": "code",
   "source": [
    "import time\n",
    "candidate_embeddings = []\n",
    "\n",
    "for i, candidates in enumerate(key_candidates, start=1):\n",
    "    t0 = time.time()\n",
    "    print(f'encoding - {i}\\t delta= ', end='')\n",
    "    candidate_embeddings.append(model.encode(candidates))\n",
    "    print(':'.join(map(str, divmod(round(time.time()-t0), 60))))"
   ],
   "metadata": {
    "colab": {
     "base_uri": "https://localhost:8080/"
    },
    "id": "_3g-kC_RDahq",
    "outputId": "71b76480-3a36-4112-c864-cd7666c3e6f3"
   },
   "execution_count": null,
   "outputs": [
    {
     "output_type": "stream",
     "name": "stdout",
     "text": [
      "encoding - 1\t delta= 0:11\n",
      "encoding - 2\t delta= 0:6\n",
      "encoding - 3\t delta= 0:9\n",
      "encoding - 4\t delta= 0:14\n",
      "encoding - 5\t delta= 0:8\n",
      "encoding - 6\t delta= 0:3\n",
      "encoding - 7\t delta= 0:7\n",
      "encoding - 8\t delta= 0:7\n",
      "encoding - 9\t delta= 0:23\n",
      "encoding - 10\t delta= 0:10\n",
      "encoding - 11\t delta= 0:18\n",
      "encoding - 12\t delta= 0:4\n",
      "encoding - 13\t delta= 0:8\n",
      "encoding - 14\t delta= 0:5\n",
      "encoding - 15\t delta= 0:4\n",
      "encoding - 16\t delta= 0:5\n",
      "encoding - 17\t delta= 0:15\n",
      "encoding - 18\t delta= 0:7\n",
      "encoding - 19\t delta= 0:6\n",
      "encoding - 20\t delta= 0:17\n",
      "encoding - 21\t delta= 0:7\n",
      "encoding - 22\t delta= 0:4\n",
      "encoding - 23\t delta= 0:13\n",
      "encoding - 24\t delta= 0:10\n",
      "encoding - 25\t delta= 0:13\n",
      "encoding - 26\t delta= 0:5\n",
      "encoding - 27\t delta= 0:7\n",
      "encoding - 28\t delta= 0:5\n",
      "encoding - 29\t delta= 0:9\n",
      "encoding - 30\t delta= 0:19\n",
      "encoding - 31\t delta= 0:11\n",
      "encoding - 32\t delta= 0:12\n",
      "encoding - 33\t delta= 0:14\n",
      "encoding - 34\t delta= 0:4\n",
      "encoding - 35\t delta= 0:9\n",
      "encoding - 36\t delta= 0:28\n",
      "encoding - 37\t delta= 0:16\n",
      "encoding - 38\t delta= 0:8\n",
      "encoding - 39\t delta= 0:12\n",
      "encoding - 40\t delta= 0:12\n",
      "encoding - 41\t delta= 0:12\n",
      "encoding - 42\t delta= 0:14\n",
      "encoding - 43\t delta= 0:10\n",
      "encoding - 44\t delta= 0:31\n",
      "encoding - 45\t delta= 0:15\n",
      "encoding - 46\t delta= 0:6\n",
      "encoding - 47\t delta= 0:15\n",
      "encoding - 48\t delta= 0:15\n",
      "encoding - 49\t delta= 0:27\n",
      "encoding - 50\t delta= 0:21\n"
     ]
    }
   ]
  },
  {
   "cell_type": "code",
   "source": [
    "print(f'doc_embeddings shape: {doc_embeddings.shape}')\n",
    "print(f'candidaate embeddings length: {len(candidate_embeddings)}')\n",
    "print(f'candidaate embeddings shape: {[embeddings.shape for embeddings in candidate_embeddings[:5]]}')"
   ],
   "metadata": {
    "id": "XeP4GLT1D_5_"
   },
   "execution_count": null,
   "outputs": []
  },
  {
   "cell_type": "markdown",
   "source": [
    "## 2.1 Similarity Strategy"
   ],
   "metadata": {
    "id": "qHMEZzLNHTvG"
   }
  },
  {
   "cell_type": "markdown",
   "source": [
    "### 2.1.1 cosine rank\n",
    "cos-similarity를 구해서 top n개를 ranking 하는 방법"
   ],
   "metadata": {
    "id": "w2Dxdoo9H7_b"
   }
  },
  {
   "cell_type": "code",
   "source": [
    "from sklearn.metrics.pairwise import cosine_similarity\n",
    "\n",
    "def cosine_rank(doc_idx, top_n):\n",
    "    \"\"\"\n",
    "    doc_embedding: 1개의 document에 대한 embedding, shape: (1, emb_dim)\n",
    "    candidate_embeddings: 1개의 document에 대한 candidates의 embedding, shape: (n_candidates, emb_dim)\n",
    "    \"\"\"\n",
    "    doc_emb = doc_embeddings[[doc_idx]]\n",
    "    cand_embs = candidate_embeddings[doc_idx]\n",
    "\n",
    "    distances = -cosine_similarity(doc_emb, cand_embs)\n",
    "    keywards = [key_candidates[doc_idx][arg] for arg in distances.argsort()[0, :top_n]]\n",
    "\n",
    "    return keywards"
   ],
   "metadata": {
    "id": "nYhOxlPjH1HO"
   },
   "execution_count": 29,
   "outputs": []
  },
  {
   "cell_type": "code",
   "source": [
    "cosine_rank(idx, 5)"
   ],
   "metadata": {
    "colab": {
     "base_uri": "https://localhost:8080/"
    },
    "id": "QreaHp9LJhWo",
    "outputId": "9b183a9f-fc23-44f4-f484-07214ff38e12"
   },
   "execution_count": null,
   "outputs": [
    {
     "output_type": "execute_result",
     "data": {
      "text/plain": [
       "['식별 타격 드론', '시연 드론 카메라', '개발 드론 카메라', '드론 카메라 촬영', '식별 확률 드론']"
      ]
     },
     "metadata": {},
     "execution_count": 173
    }
   ]
  },
  {
   "cell_type": "markdown",
   "source": [
    "### 2.1.2 Max Sum Similarity\n",
    "\n",
    "document와의 유사도는 최대화 하면서 candidates 간의 유사도는 최소화"
   ],
   "metadata": {
    "id": "Eki_dpeYLV1O"
   }
  },
  {
   "cell_type": "code",
   "source": [
    "from itertools import combinations as comb\n",
    "\n",
    "def max_sum_similarity(doc_idx, top_n, grab_size):\n",
    "    doc_emb = doc_embeddings[[doc_idx]]\n",
    "    cand_embs = candidate_embeddings[doc_idx]\n",
    "\n",
    "    doc_cand_distances = -cosine_similarity(doc_emb, cand_embs)\n",
    "    cand_cand_distances = -cosine_similarity(cand_embs)\n",
    "\n",
    "    # grep candidates\n",
    "    grabbed_candidates_idx = doc_cand_distances.argsort()[0, :grab_size].tolist()\n",
    "    \n",
    "    # pick top_n candidates with smallest sum of similarity\n",
    "    min_sim = np.inf\n",
    "    candidate = None\n",
    "    for cand_idx in comb(grabbed_candidates_idx, top_n):\n",
    "        sim = sum([cand_cand_distances[i,j] for i,j in comb(cand_idx, 2)])\n",
    "        if sim < min_sim:\n",
    "            candidate = cand_idx\n",
    "            min_sim = sim\n",
    "    \n",
    "    keywords = [key_candidates[doc_idx][arg] for arg in candidate]\n",
    "    return keywords"
   ],
   "metadata": {
    "id": "XgJ1sIw3LRow"
   },
   "execution_count": 34,
   "outputs": []
  },
  {
   "cell_type": "code",
   "source": [
    "max_sum_similarity(idx, 5, 10)"
   ],
   "metadata": {
    "colab": {
     "base_uri": "https://localhost:8080/"
    },
    "id": "DviGAeSEQdQN",
    "outputId": "57a0b68d-48cf-44e4-f986-1e3d3b8c2e9c"
   },
   "execution_count": null,
   "outputs": [
    {
     "output_type": "execute_result",
     "data": {
      "text/plain": [
       "['시연 드론 카메라', '드론 카메라 촬영', '드론 기술 이용', '촬영 드론 기술', '드론 카메라 화면']"
      ]
     },
     "metadata": {},
     "execution_count": 217
    }
   ]
  },
  {
   "cell_type": "markdown",
   "source": [
    "### 2.1.3 Maximal Marginal Relevance"
   ],
   "metadata": {
    "id": "Ou6jnmJsTVca"
   }
  },
  {
   "cell_type": "code",
   "source": [
    "def mmr(doc_idx, top_n, diversity):\n",
    "    doc_emb = doc_embeddings[[doc_idx]]\n",
    "    cand_embs = candidate_embeddings[doc_idx]\n",
    "\n",
    "    cand_doc_distances = -cosine_similarity(cand_embs, doc_emb)\n",
    "    cand_cand_distances = -cosine_similarity(cand_embs)\n",
    "\n",
    "    # 키워드로 뽑힌 토큰의 index\n",
    "    keywords_idx = [np.argmin(cand_doc_distances)]\n",
    "    # 키워드로 뽑히지 않은 후보의 index\n",
    "    candidates_idx = [i for i in range(len(cand_embs)) if i != keywords_idx[0]]\n",
    "\n",
    "    for _ in range(top_n - 1):\n",
    "        # 후보들의 doc과의 similarity\n",
    "        candidate_sim = cand_doc_distances[candidates_idx]\n",
    "        # 각 후보들과 키워드 사이의 가장 큰 similarity\n",
    "        target_sim = np.min(cand_cand_distances[candidates_idx][:, keywords_idx], axis=1)\n",
    "\n",
    "        # doc과의 similarity와 keyword과의 similarity(negative)의 조화평균\n",
    "        mmr_val = (1-diversity) * candidate_sim - diversity * target_sim.reshape(-1, 1)\n",
    "        mmr_idx = candidates_idx[np.argmin(mmr_val)]\n",
    "\n",
    "        keywords_idx.append(mmr_idx)\n",
    "        candidates_idx.append(mmr_idx)\n",
    "\n",
    "    keywords = [key_candidates[doc_idx][arg] for arg in keywords_idx]\n",
    "    \n",
    "    return keywords"
   ],
   "metadata": {
    "id": "amiJDw1ETaHc"
   },
   "execution_count": 28,
   "outputs": []
  },
  {
   "cell_type": "code",
   "source": [
    "_ = [print(mmr(idx, 5, i/10)) for i in range(7)]"
   ],
   "metadata": {
    "colab": {
     "base_uri": "https://localhost:8080/"
    },
    "id": "p4lpAYuUcUbP",
    "outputId": "ef639f22-721c-4341-dcf4-86d585b89deb"
   },
   "execution_count": null,
   "outputs": [
    {
     "output_type": "stream",
     "name": "stdout",
     "text": [
      "['식별 타격 드론', '시연 드론 카메라', '개발 드론 카메라', '드론 카메라 촬영', '식별 확률 드론']\n",
      "['식별 타격 드론', '시연 드론 카메라', '개발 드론 카메라', '식별 확률 드론', '드론 카메라 촬영']\n",
      "['식별 타격 드론', '개발 드론 카메라', '세계 드론 업체', '식별 확률 드론', '시연 드론 카메라']\n",
      "['식별 타격 드론', '개발 드론 카메라', '세계 드론 업체', '학습 이후 드론', '식별 확률 드론']\n",
      "['식별 타격 드론', '기술 활용 숲속', '드론 업체 중국', '개발 드론 카메라', '사진 자동차 알고리즘']\n",
      "['식별 타격 드론', '등산로 사진', '사진 자동차 알고리즘', '기술 활용 숲속', '드론 업체 중국']\n",
      "['식별 타격 드론', '등산로 사진', '인간 스스로 학습', '방식 사진 자동차', '고양이 시신경']\n"
     ]
    }
   ]
  },
  {
   "cell_type": "markdown",
   "source": [
    "# Small Challenge\n",
    "\n",
    "- sample1.txt 파일 내의 문단들의 키워드를 추출하기"
   ],
   "metadata": {
    "id": "wFn1ZnK6JKm0"
   }
  },
  {
   "cell_type": "markdown",
   "source": [
    "## Make Input"
   ],
   "metadata": {
    "id": "5B0rBb5jJm0g"
   }
  },
  {
   "cell_type": "code",
   "source": [
    "import re\n",
    "\n",
    "with open('sample1.txt', 'r') as f:\n",
    "    docs = f.read()\n",
    "\n",
    "docs = re.split(r'</br>\\n?', docs)\n",
    "docs"
   ],
   "metadata": {
    "id": "cNsckP8WcXZU",
    "colab": {
     "base_uri": "https://localhost:8080/"
    },
    "outputId": "af7c1a3a-ee50-413a-d563-0b0f85d47cba"
   },
   "execution_count": 19,
   "outputs": [
    {
     "output_type": "execute_result",
     "data": {
      "text/plain": [
       "['All human beings are born free and equal in dignity and rights. They are endowed with reason and conscience and should act towards one another in a spirit of brotherhood.',\n",
       " 'Everyone is entitled to all the rights and freedoms set forth in this Declaration, without distinction of any kind, such as race, colour, sex, language, religion, political or other opinion, national or social origin, property, birth or other status. Furthermore, no distinction shall be made on the basis of the political, jurisdictional or international status of the country or territory to which a person belongs, whether it be independent, trust, non-self-governing or under any other limitation of sovereignty.',\n",
       " 'All are equal before the law and are entitled without any discrimination to equal protection of the law. All are entitled to equal protection against any discrimination in violation of this Declaration and against any incitement to such discrimination.']"
      ]
     },
     "metadata": {},
     "execution_count": 19
    }
   ]
  },
  {
   "cell_type": "markdown",
   "source": [
    "## Make Keyword Candidates"
   ],
   "metadata": {
    "id": "JK7vka51L5_U"
   }
  },
  {
   "cell_type": "code",
   "source": [
    "from sklearn.feature_extraction.text import CountVectorizer\n",
    "\n",
    "key_candidates = []\n",
    "\n",
    "for doc in docs:\n",
    "    vectorizer = CountVectorizer(ngram_range=(2,3)).fit([doc])\n",
    "    key_candidates.append(vectorizer.get_feature_names_out())"
   ],
   "metadata": {
    "id": "J9vDxXB8L5DI"
   },
   "execution_count": 22,
   "outputs": []
  },
  {
   "cell_type": "markdown",
   "source": [
    "## Make Model"
   ],
   "metadata": {
    "id": "CZk6HeuzLTbB"
   }
  },
  {
   "cell_type": "code",
   "source": [
    "import numpy as np\n",
    "from sentence_transformers import SentenceTransformer\n",
    "\n",
    "pretrained_model_name = \"sentence-transformers/all-mpnet-base-v2\"\n",
    "\n",
    "model = SentenceTransformer(pretrained_model_name)"
   ],
   "metadata": {
    "id": "93bYe2-zJz9Q"
   },
   "execution_count": 35,
   "outputs": []
  },
  {
   "cell_type": "code",
   "source": [
    "doc_embeddings = model.encode(docs)"
   ],
   "metadata": {
    "id": "GpSu6bj-LvUh"
   },
   "execution_count": 23,
   "outputs": []
  },
  {
   "cell_type": "code",
   "source": [
    "import time\n",
    "candidate_embeddings = []\n",
    "\n",
    "for i, candidates in enumerate(key_candidates, start=1):\n",
    "    t0 = time.time()\n",
    "    print(f'encoding - {i}\\t delta= ', end='')\n",
    "    candidate_embeddings.append(model.encode(candidates))\n",
    "    print(':'.join(map(str, divmod(round(time.time()-t0), 60))))"
   ],
   "metadata": {
    "colab": {
     "base_uri": "https://localhost:8080/"
    },
    "id": "cngixAlEMw7i",
    "outputId": "d8bf1c6c-4746-4ab3-e244-4fac6ba991c6"
   },
   "execution_count": 24,
   "outputs": [
    {
     "output_type": "stream",
     "name": "stdout",
     "text": [
      "encoding - 1\t delta= 0:2\n",
      "encoding - 2\t delta= 0:7\n",
      "encoding - 3\t delta= 0:2\n"
     ]
    }
   ]
  },
  {
   "cell_type": "markdown",
   "source": [
    "## Calculate Similarity"
   ],
   "metadata": {
    "id": "hUKaXwviNAIR"
   }
  },
  {
   "cell_type": "code",
   "source": [
    "idx =    2# @param = {type: \"number\"}\n",
    "\n",
    "print(f'document: \\n{docs[idx]}')\n",
    "print('-----------------')\n",
    "print(f'keywords: (cosine ranking)\\n{cosine_rank(idx, top_n=3)}')\n",
    "print(f'keywords: (max sum similarity)\\n{max_sum_similarity(idx, top_n=3, grab_size=6)}')\n",
    "print(f'keywords: (cosine ranking)\\n{mmr(idx, top_n=3, diversity=0.3)}')"
   ],
   "metadata": {
    "colab": {
     "base_uri": "https://localhost:8080/"
    },
    "id": "3fko0vT9NNFJ",
    "outputId": "ee2571ee-55f4-4924-d48e-788ae17ccade"
   },
   "execution_count": 38,
   "outputs": [
    {
     "output_type": "stream",
     "name": "stdout",
     "text": [
      "document: \n",
      "All are equal before the law and are entitled without any discrimination to equal protection of the law. All are entitled to equal protection against any discrimination in violation of this Declaration and against any incitement to such discrimination.\n",
      "-----------------\n",
      "keywords: (cosine ranking)\n",
      "['equal protection of', 'equal protection against', 'discrimination to equal']\n",
      "keywords: (max sum similarity)\n",
      "['equal protection of', 'equal protection against', 'equal protection']\n",
      "keywords: (cosine ranking)\n",
      "['equal protection of', 'discrimination to equal', 'this declaration and']\n"
     ]
    }
   ]
  },
  {
   "cell_type": "markdown",
   "source": [
    "사실, sample1.txt 는 세계인권선언 (Universal Delaration of Human Rights)의 \n",
    "- Article-1  \n",
    "모든 인간은 태어날 때부터 자유로우며 그 존엄과 권리에 있어 동등하다. 인간은 천부적으로 이성과 양심을 부여받았으며 서로 형제애의 정신으로 행동하여야 한다.\n",
    "- Article-2   \n",
    "모든 사람은 인종, 피부색, 성, 언어, 종교, 정치적 또는 기타의 견해, 민족적 또는 사회적 출신, 재산, 출생 또는 기타의 신분과 같은 어떠한 종류의 차별이 없이, 이 선언에 규정된 모든 권리와 자유를 향유할 자격이 있다. 더 나아가 개인이 속한 국가 또는 영토가 독립국, 신탁통치지역, 비자치지역이거나 또는 주권에 대한 여타의 제약을 받느냐에 관계없이, 그 국가 또는 영토의 정치적, 법적 또는 국제적 지위에 근거하여 차별이 있어서는 아니 된다.\n",
    "- Article-7  \n",
    "모든 사람은 법 앞에 평등하며 어떠한 차별도 없이 법의 동등한 보호를 받을 권리를 가진다. 모든 사람은 이 선언에 위반되는 어떠한 차별과 그러한 차별의 선동으로부터 동등한 보호를 받을 권리를 가진다.\n",
    "\n",
    "\n",
    "입니다."
   ],
   "metadata": {
    "id": "TpAPsxkdPAYX"
   }
  },
  {
   "cell_type": "markdown",
   "source": [
    "# 코드 블록화"
   ],
   "metadata": {
    "id": "SaIctOYzRGLj"
   }
  },
  {
   "cell_type": "code",
   "source": [
    "from itertools import combinations as comb\n",
    "from sklearn.metrics.pairwise import cosine_similarity\n",
    "\n",
    "def cosine_rank(doc_emb, cand_embs, top_n):\n",
    "    \"\"\"\n",
    "    :param doc_embedding: 1개의 document에 대한 embedding, shape: (1, emb_dim)\n",
    "    :param candidate_embeddings: 1개의 document에 대한 candidates의 embedding, shape: (n_candidates, emb_dim)\n",
    "    :param top_n: keyword로 뽑을 단어의 수\n",
    "    \"\"\"\n",
    "    distances = -cosine_similarity(doc_emb, cand_embs)\n",
    "    keywords_idx = distances.argsort()[0, :top_n]\n",
    "\n",
    "    return keywords_idx.tolist()\n",
    "\n",
    "\n",
    "def max_sum_similarity(doc_emb, cand_embs, top_n, grab_size):\n",
    "    \"\"\"\n",
    "    1. `grab_size` 만큼의 상위 candidates를 뽑는다.\n",
    "    2. 그 중 가장 적은 유사도 합을 나타내는 `top_n`개의 단어 집합을 선택한다.\n",
    "\n",
    "    :param doc_emb: 1개의 document에 대한 embedding, shape: (1, emb_dim)\n",
    "    :param cand_embs: 1개의 document에 대한 candidates의 embbedding, shape: (n_candidates, emb_dim)\n",
    "    :param top_n: keyword로 뽑을 단어의 수\n",
    "    :param grab_size: 가장 서로 유사도가 적은 단어를 뽑기 위한 집합의 크기\n",
    "    \"\"\"\n",
    "    doc_cand_distances = -cosine_similarity(doc_emb, cand_embs)\n",
    "    cand_cand_distances = -cosine_similarity(cand_embs)\n",
    "\n",
    "    # grep candidates\n",
    "    grabbed_candidates_idx = doc_cand_distances.argsort()[0, :grab_size].tolist()\n",
    "    \n",
    "    # pick top_n candidates with smallest sum of similarity\n",
    "    min_sim = np.inf\n",
    "    candidate = None\n",
    "    for cand_idx in comb(grabbed_candidates_idx, top_n):\n",
    "        sim = sum([cand_cand_distances[i,j] for i,j in comb(cand_idx, 2)])\n",
    "        if sim < min_sim:\n",
    "            candidate = cand_idx\n",
    "            min_sim = sim\n",
    "    \n",
    "    return list(candidate)\n",
    "\n",
    "def mmr(doc_emb, cand_embs, top_n, diversity):\n",
    "    \"\"\"\n",
    "    keyword candidate에 대해서, 본문과의 유사도(sim1)과 candidate간의 유사도(sim2)를 두고,\n",
    "    sim1과 -sim2의 diversity에 대한 조화평균을 최대화 하는 keyword를 선택한다.\n",
    "    :param doc_emb: 1개의 document에 대한 embedding, shape: (1, emb_dim)\n",
    "    :param cand_embs: 1개의 document에 대한 candidates의 embbedding, shape: (n_candidates, emb_dim)\n",
    "    :param top_n: keyword로 뽑을 단어의 수\n",
    "    :param diversity: keyword의 다양성 factor\n",
    "    \"\"\"\n",
    "    cand_doc_distances = -cosine_similarity(cand_embs, doc_emb)\n",
    "    cand_cand_distances = -cosine_similarity(cand_embs)\n",
    "\n",
    "    # 키워드로 뽑힌 토큰의 index\n",
    "    keywords_idx = [np.argmin(cand_doc_distances)]\n",
    "    # 키워드로 뽑히지 않은 후보의 index\n",
    "    candidates_idx = [i for i in range(len(cand_embs)) if i != keywords_idx[0]]\n",
    "\n",
    "    for _ in range(top_n - 1):\n",
    "        # 후보들의 doc과의 similarity\n",
    "        candidate_sim = cand_doc_distances[candidates_idx]\n",
    "        # 각 후보들과 키워드 사이의 가장 큰 similarity\n",
    "        target_sim = np.min(cand_cand_distances[candidates_idx][:, keywords_idx], axis=1)\n",
    "\n",
    "        # doc과의 similarity와 keyword과의 similarity(negative)의 조화평균\n",
    "        mmr_val = (1-diversity) * candidate_sim - diversity * target_sim.reshape(-1, 1)\n",
    "        mmr_idx = candidates_idx[np.argmin(mmr_val)]\n",
    "\n",
    "        keywords_idx.append(mmr_idx)\n",
    "        candidates_idx.append(mmr_idx)\n",
    "\n",
    "    return keywords_idx\n",
    "\n",
    "def summarize(model: SentenceTransformer, doc: str, strategy: str = 'cosine_rank', **strategy_kwargs):\n",
    "    vectorizer = CountVectorizer(ngram_range=(2,3)).fit([doc])\n",
    "    key_candidates = vectorizer.get_feature_names_out()\n",
    "\n",
    "    doc_embedding = model.encode([doc])\n",
    "    candidate_embeddings = model.encode(key_candidates)\n",
    "\n",
    "    similarity_strategy = None\n",
    "    if strategy == 'cosine_rank':\n",
    "        similarity_strategy = cosine_rank\n",
    "    elif strategy == 'max_sum_similarity':\n",
    "        similarity_strategy = max_sum_similarity\n",
    "    elif strategy == 'mmr':\n",
    "        similarity_strategy = mmr\n",
    "    else:\n",
    "        raise ValueError(f'similarity stratege name unknown: {strategy}')\n",
    "    \n",
    "    keywords_idx = similarity_strategy(doc_embedding, \n",
    "                                       candidate_embeddings, \n",
    "                                       **strategy_kwargs)\n",
    "    \n",
    "    return [key_candidates[arg] for arg in keywords_idx]"
   ],
   "metadata": {
    "id": "sm9rHdNcOdCW"
   },
   "execution_count": 56,
   "outputs": []
  },
  {
   "cell_type": "code",
   "source": [
    "doc = \"\"\"Russia invaded Ukraine on 24 February 2022, marking a steep escalation of the Russo-Ukrainian War which had begun in 2014. The invasion has caused Europe's largest refugee crisis since World War II,[18][19] with more than 5.8 million Ukrainians leaving the country[20] and a quarter of the population displaced.[21][22]\n",
    "\n",
    "At the start of the war in 2014, Russia annexed the south Ukrainian region of Crimea, and Russian-backed separatists seized part of the south-eastern regions of Ukraine (the Donbas; in Luhansk and Donetsk oblasts), sparking a regional war there.[23][24] In 2021, Russia began a large military build-up along its border with Ukraine, amassing up to 190,000 troops along with their equipment. In a televised address shortly before the invasion, Russian president Vladimir Putin espoused irredentist views,[25] questioned Ukraine's right to statehood,[26][27] and falsely[28] accused Ukraine of being governed by neo-Nazis who persecute the ethnic Russian minority.[29] Putin also said the North Atlantic Treaty Organization (NATO) constituted a threat to Russia's national security by having expanded eastward since the early 2000s, which NATO disputed.[30] Russia demanded NATO stop expanding and permanently bar Ukraine from ever joining the alliance.[31] Multiple nations accused Russia of planning to attack or invade Ukraine, which Russian officials repeatedly denied as late as 23 February 2022.[35]\n",
    "\n",
    "On 21 February 2022, Russia recognised the Donetsk People's Republic and the Luhansk People's Republic, two self-proclaimed statelets in Donbas controlled by pro-Russian separatists.[36] The following day, the Federation Council of Russia authorised the use of military force abroad, and Russian troops overtly entered both territories.[37] The invasion began on the morning of 24 February,[38] when Putin announced a \"special military operation\" to \"demilitarise and denazify\" Ukraine.[39][40] Minutes later, missiles and airstrikes hit across Ukraine, including the capital Kyiv, shortly followed by a large ground invasion from multiple directions.[41][42] In response, Ukrainian president Volodymyr Zelenskyy enacted martial law and general mobilisation of all male Ukrainian citizens between the ages of 18 and 60, who were banned from leaving the country.[43][44]\n",
    "\n",
    "As the invasion began on 24 February 2022, the northern front launched from Belarus towards Kyiv, with a northeastern front attack on the city of Kharkiv; the southeastern front was conducted as two separate spearhead fronts, including a southern front (originating in Crimea) and a separate probative southeastern front (launched at the cities of Luhansk and Donetsk).[45][46] On 8 April, the Russian ministry announced that all troops and divisions deployed in southeastern Ukraine would unite under General Aleksandr Dvornikov, who took charge of combined military operations, including the redeployed probative fronts originally assigned to the northern and north-eastern fronts, subsequently withdrawn and reassigned to the second phase on the southeastern front.[47] By 17 April, progress on the southeastern front was impeded by remaining troops continuing to hold out in the Azovstal iron and steel works in Mariupol.[48] On 19 April, Russia launched a renewed invasion across a 300-mile front extending from Kharkiv to Donetsk and Luhansk, with simultaneous missile attacks again directed at Kyiv in the north and Lviv in western Ukraine.[49]\n",
    "\n",
    "The invasion was internationally condemned as an act of aggression.[50][51] A United Nations General Assembly resolution demanded a full withdrawal of Russian forces, the International Court of Justice ordered Russia to suspend military operations and the Council of Europe expelled Russia. Many countries imposed new sanctions, which have affected the economies of Russia and the world,[52] and provided humanitarian and military aid to Ukraine.[53] Protests occurred around the world; those in Russia were met with mass arrests and increased media censorship,[54][55] including banning the use of the words \"war\" and \"invasion\".[42] Numerous companies withdrew their products and services from Russia and Belarus, and Russian state-funded media were banned from broadcasting and removed from online platforms. The International Criminal Court opened an investigation into war crimes that occurred in Ukraine since the 2013–2014 Revolution of Dignity through to war crimes in the 2022 invasion.[56]\"\"\""
   ],
   "metadata": {
    "id": "ZUh_WIViVE4o"
   },
   "execution_count": 57,
   "outputs": []
  },
  {
   "cell_type": "code",
   "source": [
    "summarize(model, doc, strategy='cosine_sim', top_n=5)"
   ],
   "metadata": {
    "colab": {
     "base_uri": "https://localhost:8080/"
    },
    "id": "ONy-YTScUfpp",
    "outputId": "b568a333-cfc0-40de-eec2-3ef83bbe2952"
   },
   "execution_count": 58,
   "outputs": [
    {
     "output_type": "execute_result",
     "data": {
      "text/plain": [
       "['russia invaded ukraine',\n",
       " 'invaded ukraine on',\n",
       " 'invade ukraine which',\n",
       " 'invaded ukraine',\n",
       " 'invade ukraine']"
      ]
     },
     "metadata": {},
     "execution_count": 58
    }
   ]
  },
  {
   "cell_type": "code",
   "source": [
    "summarize(model, doc, strategy='mmr', top_n=5, diversity=0.4)"
   ],
   "metadata": {
    "colab": {
     "base_uri": "https://localhost:8080/"
    },
    "id": "hDq7zLI_VS4A",
    "outputId": "faa18e22-3036-4fc3-f616-693070428c91"
   },
   "execution_count": 59,
   "outputs": [
    {
     "output_type": "execute_result",
     "data": {
      "text/plain": [
       "['russia invaded ukraine',\n",
       " 'the 2022 invasion',\n",
       " 'border with ukraine',\n",
       " 'russia national security',\n",
       " 'ukraine amassing up']"
      ]
     },
     "metadata": {},
     "execution_count": 59
    }
   ]
  },
  {
   "cell_type": "code",
   "source": [
    ""
   ],
   "metadata": {
    "id": "h8nX6oS9Xm_G"
   },
   "execution_count": null,
   "outputs": []
  }
 ]
}